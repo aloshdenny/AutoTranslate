{
 "cells": [
  {
   "cell_type": "code",
   "execution_count": 31,
   "metadata": {},
   "outputs": [
    {
     "data": {
      "text/plain": [
       "\"My name is Areus Chandani and I live in India. I could hear his parents sighing in Oman. I am studying at Coaching University of Science and Technology. I chose the Bachelor of Technology course in Computer Science. I'm a grade student. I don't have any hobbies. no\""
      ]
     },
     "execution_count": 31,
     "metadata": {},
     "output_type": "execute_result"
    }
   ],
   "source": [
    "from deep_translator import GoogleTranslator\n",
    "\n",
    "GoogleTranslator(source='auto', target='en').translate(\"私の名前はアレウス・シャンダニです 私はインドに住んでいます。オマーンで両親のため息が聞こえた。私はコーチング科学技術大学で勉強しています。私はコンピューターサイエンスの技術学士コースを選択しました。私は年生です。私には趣味がありません。いいえ\")"
   ]
  }
 ],
 "metadata": {
  "kernelspec": {
   "display_name": "tf",
   "language": "python",
   "name": "python3"
  },
  "language_info": {
   "codemirror_mode": {
    "name": "ipython",
    "version": 3
   },
   "file_extension": ".py",
   "mimetype": "text/x-python",
   "name": "python",
   "nbconvert_exporter": "python",
   "pygments_lexer": "ipython3",
   "version": "3.10.11"
  }
 },
 "nbformat": 4,
 "nbformat_minor": 2
}
